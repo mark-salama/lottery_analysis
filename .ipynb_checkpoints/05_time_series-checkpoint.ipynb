{
 "cells": [
  {
   "cell_type": "code",
   "execution_count": 1,
   "metadata": {},
   "outputs": [],
   "source": [
    "import pandas as pd\n",
    "import numpy as np\n",
    "import seaborn as sns\n",
    "import matplotlib.pyplot as plt\n",
    "%matplotlib inline\n",
    "import random"
   ]
  },
  {
   "cell_type": "code",
   "execution_count": 25,
   "metadata": {},
   "outputs": [],
   "source": [
    "state_pops = pd.read_csv('state_pop_annual.csv', index_col=0)\n",
    "state_pops.columns = ['full_state','state','pop','year']"
   ]
  },
  {
   "cell_type": "code",
   "execution_count": 43,
   "metadata": {},
   "outputs": [],
   "source": [
    "pb = pd.read_csv('pb.csv', parse_dates=['date'], index_col=0)\n",
    "mm = pd.read_csv('mega_millions.csv', parse_dates=['date'], index_col=0)"
   ]
  },
  {
   "cell_type": "code",
   "execution_count": 44,
   "metadata": {},
   "outputs": [],
   "source": [
    "lottery_sales = pd.concat([pb,mm],axis=0)"
   ]
  },
  {
   "cell_type": "code",
   "execution_count": 45,
   "metadata": {},
   "outputs": [],
   "source": [
    "lottery_sales['year'] = lottery_sales.date.dt.year"
   ]
  },
  {
   "cell_type": "code",
   "execution_count": 46,
   "metadata": {},
   "outputs": [],
   "source": [
    "annual_lottery_state = lottery_sales[lottery_sales.year<2019].groupby(['year','state']).sum().reset_index().reset_index()"
   ]
  },
  {
   "cell_type": "code",
   "execution_count": null,
   "metadata": {},
   "outputs": [],
   "source": []
  },
  {
   "cell_type": "code",
   "execution_count": null,
   "metadata": {},
   "outputs": [],
   "source": [
    "# draw sales per state per year"
   ]
  },
  {
   "cell_type": "code",
   "execution_count": 58,
   "metadata": {},
   "outputs": [],
   "source": [
    "lottery_sales_state_pop = annual_lottery_state.merge(state_pops,on=['state','year'])"
   ]
  },
  {
   "cell_type": "code",
   "execution_count": 59,
   "metadata": {},
   "outputs": [],
   "source": [
    "lottery_sales_state_pop['sales_per_capita'] = lottery_sales_state_pop.draw_sales / lottery_sales_state_pop['pop']"
   ]
  },
  {
   "cell_type": "code",
   "execution_count": 61,
   "metadata": {},
   "outputs": [],
   "source": [
    "lottery_sales_state_pop[['year','state','sales_per_capita']].to_csv('lottery_sales_state_pop.csv')"
   ]
  },
  {
   "cell_type": "code",
   "execution_count": null,
   "metadata": {},
   "outputs": [],
   "source": []
  },
  {
   "cell_type": "code",
   "execution_count": null,
   "metadata": {},
   "outputs": [],
   "source": [
    "# median draw sales per state"
   ]
  },
  {
   "cell_type": "code",
   "execution_count": 62,
   "metadata": {},
   "outputs": [],
   "source": [
    "state_median = lottery_sales_state_pop.groupby('state').median().sort_values('sales_per_capita',ascending=False).reset_index()"
   ]
  },
  {
   "cell_type": "code",
   "execution_count": 63,
   "metadata": {},
   "outputs": [
    {
     "data": {
      "text/html": [
       "<div>\n",
       "<style scoped>\n",
       "    .dataframe tbody tr th:only-of-type {\n",
       "        vertical-align: middle;\n",
       "    }\n",
       "\n",
       "    .dataframe tbody tr th {\n",
       "        vertical-align: top;\n",
       "    }\n",
       "\n",
       "    .dataframe thead th {\n",
       "        text-align: right;\n",
       "    }\n",
       "</style>\n",
       "<table border=\"1\" class=\"dataframe\">\n",
       "  <thead>\n",
       "    <tr style=\"text-align: right;\">\n",
       "      <th></th>\n",
       "      <th>state</th>\n",
       "      <th>index</th>\n",
       "      <th>year</th>\n",
       "      <th>draw_sales</th>\n",
       "      <th>pop</th>\n",
       "      <th>sales_per_capita</th>\n",
       "    </tr>\n",
       "  </thead>\n",
       "  <tbody>\n",
       "    <tr>\n",
       "      <th>0</th>\n",
       "      <td>NJ</td>\n",
       "      <td>230.5</td>\n",
       "      <td>2014.5</td>\n",
       "      <td>417988595.5</td>\n",
       "      <td>8.927463e+06</td>\n",
       "      <td>46.858317</td>\n",
       "    </tr>\n",
       "    <tr>\n",
       "      <th>1</th>\n",
       "      <td>RI</td>\n",
       "      <td>238.5</td>\n",
       "      <td>2014.5</td>\n",
       "      <td>41652693.0</td>\n",
       "      <td>1.055397e+06</td>\n",
       "      <td>39.404473</td>\n",
       "    </tr>\n",
       "    <tr>\n",
       "      <th>2</th>\n",
       "      <td>DE</td>\n",
       "      <td>209.5</td>\n",
       "      <td>2014.5</td>\n",
       "      <td>37449110.5</td>\n",
       "      <td>9.368807e+05</td>\n",
       "      <td>39.262948</td>\n",
       "    </tr>\n",
       "    <tr>\n",
       "      <th>3</th>\n",
       "      <td>NY</td>\n",
       "      <td>232.5</td>\n",
       "      <td>2014.5</td>\n",
       "      <td>741070704.5</td>\n",
       "      <td>1.947041e+07</td>\n",
       "      <td>38.092132</td>\n",
       "    </tr>\n",
       "    <tr>\n",
       "      <th>4</th>\n",
       "      <td>NH</td>\n",
       "      <td>229.5</td>\n",
       "      <td>2014.5</td>\n",
       "      <td>50770091.5</td>\n",
       "      <td>1.338962e+06</td>\n",
       "      <td>37.941320</td>\n",
       "    </tr>\n",
       "  </tbody>\n",
       "</table>\n",
       "</div>"
      ],
      "text/plain": [
       "  state  index    year   draw_sales           pop  sales_per_capita\n",
       "0    NJ  230.5  2014.5  417988595.5  8.927463e+06         46.858317\n",
       "1    RI  238.5  2014.5   41652693.0  1.055397e+06         39.404473\n",
       "2    DE  209.5  2014.5   37449110.5  9.368807e+05         39.262948\n",
       "3    NY  232.5  2014.5  741070704.5  1.947041e+07         38.092132\n",
       "4    NH  229.5  2014.5   50770091.5  1.338962e+06         37.941320"
      ]
     },
     "execution_count": 63,
     "metadata": {},
     "output_type": "execute_result"
    }
   ],
   "source": [
    "state_median[['state','sales_per_capita']].to_csv('state_median.csv')"
   ]
  },
  {
   "cell_type": "code",
   "execution_count": null,
   "metadata": {},
   "outputs": [],
   "source": []
  },
  {
   "cell_type": "code",
   "execution_count": null,
   "metadata": {},
   "outputs": [],
   "source": [
    "# overall annual growth"
   ]
  },
  {
   "cell_type": "code",
   "execution_count": 65,
   "metadata": {},
   "outputs": [],
   "source": [
    "lottery_sales_state_pop.groupby('year').sum().reset_index()[['year','draw_sales']].to_csv('annual_growth.csv')"
   ]
  },
  {
   "cell_type": "code",
   "execution_count": null,
   "metadata": {},
   "outputs": [],
   "source": []
  }
 ],
 "metadata": {
  "kernelspec": {
   "display_name": "Python 3",
   "language": "python",
   "name": "python3"
  },
  "language_info": {
   "codemirror_mode": {
    "name": "ipython",
    "version": 3
   },
   "file_extension": ".py",
   "mimetype": "text/x-python",
   "name": "python",
   "nbconvert_exporter": "python",
   "pygments_lexer": "ipython3",
   "version": "3.7.1"
  }
 },
 "nbformat": 4,
 "nbformat_minor": 2
}
