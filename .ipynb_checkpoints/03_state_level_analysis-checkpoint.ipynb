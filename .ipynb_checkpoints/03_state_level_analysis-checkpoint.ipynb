{
 "cells": [
  {
   "cell_type": "code",
   "execution_count": 2,
   "metadata": {},
   "outputs": [],
   "source": [
    "import pandas as pd\n",
    "import numpy as np\n",
    "import seaborn as sns\n",
    "import matplotlib.pyplot as plt\n",
    "%matplotlib inline\n",
    "import random"
   ]
  },
  {
   "cell_type": "code",
   "execution_count": 3,
   "metadata": {},
   "outputs": [],
   "source": [
    "state_pops = pd.read_csv('state_pop_annual.csv', index_col=0)\n",
    "state_pops.columns = ['full_state','state','pop','year']"
   ]
  },
  {
   "cell_type": "code",
   "execution_count": 112,
   "metadata": {},
   "outputs": [],
   "source": [
    "# merge populations onto total lottery csv, and calculate sales per capita\n",
    "total_lottery = pd.read_csv('total_lottery_per_state.csv')\n",
    "total_lottery = total_lottery.merge(state_pops,on=['state','year'])\n",
    "total_lottery['sales_per_capita'] = (total_lottery.sales * 1000000) / total_lottery['pop']\n",
    "total_lottery['sales_per_capita_ex_video'] = \\\n",
    "    ((total_lottery.sales - total_lottery.video_other_rev)* 1000000) / total_lottery['pop']\n",
    "total_lottery = total_lottery.sort_values('sales_per_capita',ascending=False)[['state','sales_per_capita','sales_per_capita_ex_video']]\n",
    "total_lottery.to_csv('total_lottery_sales_capita.csv')"
   ]
  },
  {
   "cell_type": "code",
   "execution_count": null,
   "metadata": {},
   "outputs": [],
   "source": []
  },
  {
   "cell_type": "code",
   "execution_count": 4,
   "metadata": {},
   "outputs": [],
   "source": [
    "pb = pd.read_csv('pb.csv', parse_dates=['date'], index_col=0)\n",
    "mm = pd.read_csv('mega_millions.csv', parse_dates=['date'], index_col=0)"
   ]
  },
  {
   "cell_type": "code",
   "execution_count": 7,
   "metadata": {},
   "outputs": [],
   "source": [
    "# pb and mm draw sales per state per year\n",
    "pb_mm_sales = pd.concat([pb,mm],axis=0)\n",
    "pb_mm_sales['year'] = pb_mm_sales.date.dt.year\n",
    "pb_mm_lottery_state = pb_mm_sales[pb_mm_sales.year<2019]\\\n",
    "    .groupby(['year','state']).sum().reset_index().reset_index()\n"
   ]
  },
  {
   "cell_type": "code",
   "execution_count": 46,
   "metadata": {},
   "outputs": [],
   "source": [
    "# merge populations onto above df and calculate sales per capita\n",
    "pb_mm_lottery_state_pop = pb_mm_lottery_state.merge(state_pops,on=['state','year'])\n",
    "pb_mm_lottery_state_pop['sales_per_capita'] = \\\n",
    "    pb_mm_lottery_state_pop.draw_sales / pb_mm_lottery_state_pop['pop']"
   ]
  },
  {
   "cell_type": "code",
   "execution_count": null,
   "metadata": {},
   "outputs": [],
   "source": [
    "# pb and mm median draw sales per state"
   ]
  },
  {
   "cell_type": "code",
   "execution_count": 62,
   "metadata": {},
   "outputs": [],
   "source": [
    "state_median = pb_mm_lottery_state_pop.groupby('state').median().sort_values('sales_per_capita',ascending=False).reset_index()\n",
    "state_median[['state','sales_per_capita']].to_csv('state_median.csv')"
   ]
  },
  {
   "cell_type": "code",
   "execution_count": null,
   "metadata": {},
   "outputs": [],
   "source": []
  },
  {
   "cell_type": "code",
   "execution_count": null,
   "metadata": {},
   "outputs": [],
   "source": []
  }
 ],
 "metadata": {
  "kernelspec": {
   "display_name": "Python 3",
   "language": "python",
   "name": "python3"
  },
  "language_info": {
   "codemirror_mode": {
    "name": "ipython",
    "version": 3
   },
   "file_extension": ".py",
   "mimetype": "text/x-python",
   "name": "python",
   "nbconvert_exporter": "python",
   "pygments_lexer": "ipython3",
   "version": "3.7.1"
  }
 },
 "nbformat": 4,
 "nbformat_minor": 2
}
